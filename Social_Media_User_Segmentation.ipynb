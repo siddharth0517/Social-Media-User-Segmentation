{
  "nbformat": 4,
  "nbformat_minor": 0,
  "metadata": {
    "colab": {
      "provenance": [],
      "authorship_tag": "ABX9TyNLca5gqqe7sdwcHNygeLki",
      "include_colab_link": true
    },
    "kernelspec": {
      "name": "python3",
      "display_name": "Python 3"
    },
    "language_info": {
      "name": "python"
    }
  },
  "cells": [
    {
      "cell_type": "markdown",
      "metadata": {
        "id": "view-in-github",
        "colab_type": "text"
      },
      "source": [
        "<a href=\"https://colab.research.google.com/github/siddharth0517/Social-Media-User-Segmentation/blob/main/Social_Media_User_Segmentation.ipynb\" target=\"_parent\"><img src=\"https://colab.research.google.com/assets/colab-badge.svg\" alt=\"Open In Colab\"/></a>"
      ]
    },
    {
      "cell_type": "markdown",
      "source": [
        "# Social Media User Segmentation project using hierarchical clustering."
      ],
      "metadata": {
        "id": "yX1yurNM6dSo"
      }
    },
    {
      "cell_type": "markdown",
      "source": [
        "**1. Importing Libraries**"
      ],
      "metadata": {
        "id": "LCDwbxSF6jGE"
      }
    },
    {
      "cell_type": "code",
      "execution_count": 1,
      "metadata": {
        "id": "2RLI-7L76Zd0"
      },
      "outputs": [],
      "source": [
        "import pandas as pd\n",
        "import numpy as np\n",
        "import matplotlib.pyplot as plt\n",
        "import seaborn as sns"
      ]
    },
    {
      "cell_type": "markdown",
      "source": [
        "**2. Importing Dataset**"
      ],
      "metadata": {
        "id": "DAPe-xcX6rRI"
      }
    },
    {
      "cell_type": "code",
      "source": [
        "Dataset = pd.read_csv('data.csv')"
      ],
      "metadata": {
        "id": "m6IlCrNe6qiT"
      },
      "execution_count": 2,
      "outputs": []
    },
    {
      "cell_type": "code",
      "source": [
        "X = Dataset[['Total Time Spent', 'Number of Sessions', 'Engagement', 'ProductivityLoss',\n",
        "                 'Satisfaction', 'Addiction Level', 'Self Control']]"
      ],
      "metadata": {
        "id": "dF84XMNT63FG"
      },
      "execution_count": 4,
      "outputs": []
    },
    {
      "cell_type": "code",
      "source": [
        "print(X)"
      ],
      "metadata": {
        "colab": {
          "base_uri": "https://localhost:8080/"
        },
        "id": "zXoDu81t728e",
        "outputId": "3d304c12-4300-4c3b-c5ba-ec379ef51bd2"
      },
      "execution_count": 5,
      "outputs": [
        {
          "output_type": "stream",
          "name": "stdout",
          "text": [
            "     Total Time Spent  Number of Sessions  Engagement  ProductivityLoss  \\\n",
            "0                  80                  17        7867                 3   \n",
            "1                 228                  14        5944                 5   \n",
            "2                  30                   6        8674                 6   \n",
            "3                 101                  19        2477                 3   \n",
            "4                 136                   6        3093                 8   \n",
            "..                ...                 ...         ...               ...   \n",
            "995               144                   7        5179                 9   \n",
            "996               231                  15        1803                 8   \n",
            "997               165                   1        9290                 9   \n",
            "998               151                  11        2050                 3   \n",
            "999               167                  17        9790                 6   \n",
            "\n",
            "     Satisfaction  Addiction Level  Self Control  \n",
            "0               7                5             5  \n",
            "1               5                3             7  \n",
            "2               4                2             8  \n",
            "3               7                5             5  \n",
            "4               2                0            10  \n",
            "..            ...              ...           ...  \n",
            "995             1                0            10  \n",
            "996             2                0            10  \n",
            "997             1                0            10  \n",
            "998             7                5             5  \n",
            "999             4                2             8  \n",
            "\n",
            "[1000 rows x 7 columns]\n"
          ]
        }
      ]
    },
    {
      "cell_type": "markdown",
      "source": [
        "**3. Feature Scaling**"
      ],
      "metadata": {
        "id": "mE1p-gcU7USv"
      }
    },
    {
      "cell_type": "code",
      "source": [
        "from sklearn.preprocessing import StandardScaler\n",
        "sc = StandardScaler()\n",
        "X = sc.fit_transform(X)"
      ],
      "metadata": {
        "id": "AgxYoqCR6_vY"
      },
      "execution_count": 6,
      "outputs": []
    },
    {
      "cell_type": "markdown",
      "source": [
        "**4. Selecting optimal number of Clusters**"
      ],
      "metadata": {
        "id": "j4g-uoVJ8RZ4"
      }
    },
    {
      "cell_type": "code",
      "source": [
        "import scipy.cluster.hierarchy as sch\n",
        "dendrogram = sch.dendrogram(sch.linkage(X, method = 'ward'))\n",
        "plt.title('Dendrogram')\n",
        "plt.xlabel('USers')\n",
        "plt.ylabel('Euclidean distances')\n",
        "plt.show()"
      ],
      "metadata": {
        "colab": {
          "base_uri": "https://localhost:8080/",
          "height": 471
        },
        "id": "svnaKYzz8IUR",
        "outputId": "a5ae4114-8e09-46b1-b15b-0827f5ad7c84"
      },
      "execution_count": 7,
      "outputs": [
        {
          "output_type": "display_data",
          "data": {
            "text/plain": [
              "<Figure size 640x480 with 1 Axes>"
            ],
            "image/png": "[encoded data removed]"
          },
          "metadata": {}
        }
      ]
    },
    {
      "cell_type": "markdown",
      "source": [
        "**5. Model Buidling**"
      ],
      "metadata": {
        "id": "SifBlo9b8z9Z"
      }
    },
    {
      "cell_type": "code",
      "source": [
        "from sklearn.cluster import AgglomerativeClustering\n",
        "hc = AgglomerativeClustering(n_clusters = 4, metric = 'euclidean', linkage = 'ward')\n",
        "y_hc = hc.fit_predict(X)"
      ],
      "metadata": {
        "id": "6qd1JGCV8ZX3"
      },
      "execution_count": 8,
      "outputs": []
    },
    {
      "cell_type": "markdown",
      "source": [
        "**6. Assigning Cluster to User**"
      ],
      "metadata": {
        "id": "nwpnV0BX9eEi"
      }
    },
    {
      "cell_type": "code",
      "source": [
        "Dataset['Cluster'] = y_hc\n",
        "Dataset.head()"
      ],
      "metadata": {
        "colab": {
          "base_uri": "https://localhost:8080/",
          "height": 359
        },
        "id": "NlUEWk2l839X",
        "outputId": "ef2dcd60-c899-47cb-e12c-54b7d2914343"
      },
      "execution_count": 11,
      "outputs": [
        {
          "output_type": "execute_result",
          "data": {
            "text/plain": [
              "   UserID  Age  Gender       Location  Income   Debt  Owns Property  \\\n",
              "0       1   56    Male       Pakistan   82812   True           True   \n",
              "1       2   46  Female         Mexico   27999  False           True   \n",
              "2       3   32  Female  United States   42436  False           True   \n",
              "3       4   60    Male         Barzil   62963   True          False   \n",
              "4       5   25    Male       Pakistan   22096  False           True   \n",
              "\n",
              "      Profession Demographics   Platform  ...  Satisfaction     Watch Reason  \\\n",
              "0       Engineer        Rural  Instagram  ...             7  Procrastination   \n",
              "1         Artist        Urban  Instagram  ...             5            Habit   \n",
              "2       Engineer        Rural   Facebook  ...             4    Entertainment   \n",
              "3  Waiting staff        Rural    YouTube  ...             7            Habit   \n",
              "4        Manager        Urban     TikTok  ...             2          Boredom   \n",
              "\n",
              "   DeviceType       OS  Watch Time  Self Control  Addiction Level  \\\n",
              "0  Smartphone  Android     9:00 PM             5                5   \n",
              "1    Computer  Android     5:00 PM             7                3   \n",
              "2      Tablet  Android     2:00 PM             8                2   \n",
              "3  Smartphone  Android     9:00 PM             5                5   \n",
              "4  Smartphone      iOS     8:00 AM            10                0   \n",
              "\n",
              "   CurrentActivity  ConnectionType  Cluster  \n",
              "0        Commuting     Mobile Data        0  \n",
              "1        At school           Wi-Fi        1  \n",
              "2          At home     Mobile Data        3  \n",
              "3        Commuting     Mobile Data        0  \n",
              "4          At home     Mobile Data        2  \n",
              "\n",
              "[5 rows x 32 columns]"
            ],
            "text/html": [
              "\n",
              "  <div id=\"df-181bfec2-8cc7-4de3-8772-eb3f50fa8b39\" class=\"colab-df-container\">\n",
              "    <div>\n",
              "<style scoped>\n",
              "    .dataframe tbody tr th:only-of-type {\n",
              "        vertical-align: middle;\n",
              "    }\n",
              "\n",
              "    .dataframe tbody tr th {\n",
              "        vertical-align: top;\n",
              "    }\n",
              "\n",
              "    .dataframe thead th {\n",
              "        text-align: right;\n",
              "    }\n",
              "</style>\n",
              "<table border=\"1\" class=\"dataframe\">\n",
              "  <thead>\n",
              "    <tr style=\"text-align: right;\">\n",
              "      <th></th>\n",
              "      <th>UserID</th>\n",
              "      <th>Age</th>\n",
              "      <th>Gender</th>\n",
              "      <th>Location</th>\n",
              "      <th>Income</th>\n",
              "      <th>Debt</th>\n",
              "      <th>Owns Property</th>\n",
              "      <th>Profession</th>\n",
              "      <th>Demographics</th>\n",
              "      <th>Platform</th>\n",
              "      <th>...</th>\n",
              "      <th>Satisfaction</th>\n",
              "      <th>Watch Reason</th>\n",
              "      <th>DeviceType</th>\n",
              "      <th>OS</th>\n",
              "      <th>Watch Time</th>\n",
              "      <th>Self Control</th>\n",
              "      <th>Addiction Level</th>\n",
              "      <th>CurrentActivity</th>\n",
              "      <th>ConnectionType</th>\n",
              "      <th>Cluster</th>\n",
              "    </tr>\n",
              "  </thead>\n",
              "  <tbody>\n",
              "    <tr>\n",
              "      <th>0</th>\n",
              "      <td>1</td>\n",
              "      <td>56</td>\n",
              "      <td>Male</td>\n",
              "      <td>Pakistan</td>\n",
              "      <td>82812</td>\n",
              "      <td>True</td>\n",
              "      <td>True</td>\n",
              "      <td>Engineer</td>\n",
              "      <td>Rural</td>\n",
              "      <td>Instagram</td>\n",
              "      <td>...</td>\n",
              "      <td>7</td>\n",
              "      <td>Procrastination</td>\n",
              "      <td>Smartphone</td>\n",
              "      <td>Android</td>\n",
              "      <td>9:00 PM</td>\n",
              "      <td>5</td>\n",
              "      <td>5</td>\n",
              "      <td>Commuting</td>\n",
              "      <td>Mobile Data</td>\n",
              "      <td>0</td>\n",
              "    </tr>\n",
              "    <tr>\n",
              "      <th>1</th>\n",
              "      <td>2</td>\n",
              "      <td>46</td>\n",
              "      <td>Female</td>\n",
              "      <td>Mexico</td>\n",
              "      <td>27999</td>\n",
              "      <td>False</td>\n",
              "      <td>True</td>\n",
              "      <td>Artist</td>\n",
              "      <td>Urban</td>\n",
              "      <td>Instagram</td>\n",
              "      <td>...</td>\n",
              "      <td>5</td>\n",
              "      <td>Habit</td>\n",
              "      <td>Computer</td>\n",
              "      <td>Android</td>\n",
              "      <td>5:00 PM</td>\n",
              "      <td>7</td>\n",
              "      <td>3</td>\n",
              "      <td>At school</td>\n",
              "      <td>Wi-Fi</td>\n",
              "      <td>1</td>\n",
              "    </tr>\n",
              "    <tr>\n",
              "      <th>2</th>\n",
              "      <td>3</td>\n",
              "      <td>32</td>\n",
              "      <td>Female</td>\n",
              "      <td>United States</td>\n",
              "      <td>42436</td>\n",
              "      <td>False</td>\n",
              "      <td>True</td>\n",
              "      <td>Engineer</td>\n",
              "      <td>Rural</td>\n",
              "      <td>Facebook</td>\n",
              "      <td>...</td>\n",
              "      <td>4</td>\n",
              "      <td>Entertainment</td>\n",
              "      <td>Tablet</td>\n",
              "      <td>Android</td>\n",
              "      <td>2:00 PM</td>\n",
              "      <td>8</td>\n",
              "      <td>2</td>\n",
              "      <td>At home</td>\n",
              "      <td>Mobile Data</td>\n",
              "      <td>3</td>\n",
              "    </tr>\n",
              "    <tr>\n",
              "      <th>3</th>\n",
              "      <td>4</td>\n",
              "      <td>60</td>\n",
              "      <td>Male</td>\n",
              "      <td>Barzil</td>\n",
              "      <td>62963</td>\n",
              "      <td>True</td>\n",
              "      <td>False</td>\n",
              "      <td>Waiting staff</td>\n",
              "      <td>Rural</td>\n",
              "      <td>YouTube</td>\n",
              "      <td>...</td>\n",
              "      <td>7</td>\n",
              "      <td>Habit</td>\n",
              "      <td>Smartphone</td>\n",
              "      <td>Android</td>\n",
              "      <td>9:00 PM</td>\n",
              "      <td>5</td>\n",
              "      <td>5</td>\n",
              "      <td>Commuting</td>\n",
              "      <td>Mobile Data</td>\n",
              "      <td>0</td>\n",
              "    </tr>\n",
              "    <tr>\n",
              "      <th>4</th>\n",
              "      <td>5</td>\n",
              "      <td>25</td>\n",
              "      <td>Male</td>\n",
              "      <td>Pakistan</td>\n",
              "      <td>22096</td>\n",
              "      <td>False</td>\n",
              "      <td>True</td>\n",
              "      <td>Manager</td>\n",
              "      <td>Urban</td>\n",
              "      <td>TikTok</td>\n",
              "      <td>...</td>\n",
              "      <td>2</td>\n",
              "      <td>Boredom</td>\n",
              "      <td>Smartphone</td>\n",
              "      <td>iOS</td>\n",
              "      <td>8:00 AM</td>\n",
              "      <td>10</td>\n",
              "      <td>0</td>\n",
              "      <td>At home</td>\n",
              "      <td>Mobile Data</td>\n",
              "      <td>2</td>\n",
              "    </tr>\n",
              "  </tbody>\n",
              "</table>\n",
              "<p>5 rows × 32 columns</p>\n",
              "</div>\n",
              "    <div class=\"colab-df-buttons\">\n",
              "\n",
              "  <div class=\"colab-df-container\">\n",
              "    <button class=\"colab-df-convert\" onclick=\"convertToInteractive('df-181bfec2-8cc7-4de3-8772-eb3f50fa8b39')\"\n",
              "            title=\"Convert this dataframe to an interactive table.\"\n",
              "            style=\"display:none;\">\n",
              "\n",
              "  <svg xmlns=\"http://www.w3.org/2000/svg\" height=\"24px\" viewBox=\"0 -960 960 960\">\n",
              "    <path d=\"M120-120v-720h720v720H120Zm60-500h600v-160H180v160Zm220 220h160v-160H400v160Zm0 220h160v-160H400v160ZM180-400h160v-160H180v160Zm440 0h160v-160H620v160ZM180-180h160v-160H180v160Zm440 0h160v-160H620v160Z\"/>\n",
              "  </svg>\n",
              "    </button>\n",
              "\n",
              "  <style>\n",
              "    .colab-df-container {\n",
              "      display:flex;\n",
              "      gap: 12px;\n",
              "    }\n",
              "\n",
              "    .colab-df-convert {\n",
              "      background-color: #E8F0FE;\n",
              "      border: none;\n",
              "      border-radius: 50%;\n",
              "      cursor: pointer;\n",
              "      display: none;\n",
              "      fill: #1967D2;\n",
              "      height: 32px;\n",
              "      padding: 0 0 0 0;\n",
              "      width: 32px;\n",
              "    }\n",
              "\n",
              "    .colab-df-convert:hover {\n",
              "      background-color: #E2EBFA;\n",
              "      box-shadow: 0px 1px 2px rgba(60, 64, 67, 0.3), 0px 1px 3px 1px rgba(60, 64, 67, 0.15);\n",
              "      fill: #174EA6;\n",
              "    }\n",
              "\n",
              "    .colab-df-buttons div {\n",
              "      margin-bottom: 4px;\n",
              "    }\n",
              "\n",
              "    [theme=dark] .colab-df-convert {\n",
              "      background-color: #3B4455;\n",
              "      fill: #D2E3FC;\n",
              "    }\n",
              "\n",
              "    [theme=dark] .colab-df-convert:hover {\n",
              "      background-color: #434B5C;\n",
              "      box-shadow: 0px 1px 3px 1px rgba(0, 0, 0, 0.15);\n",
              "      filter: drop-shadow(0px 1px 2px rgba(0, 0, 0, 0.3));\n",
              "      fill: #FFFFFF;\n",
              "    }\n",
              "  </style>\n",
              "\n",
              "    <script>\n",
              "      const buttonEl =\n",
              "        document.querySelector('#df-181bfec2-8cc7-4de3-8772-eb3f50fa8b39 button.colab-df-convert');\n",
              "      buttonEl.style.display =\n",
              "        google.colab.kernel.accessAllowed ? 'block' : 'none';\n",
              "\n",
              "      async function convertToInteractive(key) {\n",
              "        const element = document.querySelector('#df-181bfec2-8cc7-4de3-8772-eb3f50fa8b39');\n",
              "        const dataTable =\n",
              "          await google.colab.kernel.invokeFunction('convertToInteractive',\n",
              "                                                    [key], {});\n",
              "        if (!dataTable) return;\n",
              "\n",
              "        const docLinkHtml = 'Like what you see? Visit the ' +\n",
              "          '<a target=\"_blank\" href=https://colab.research.google.com/notebooks/data_table.ipynb>data table notebook</a>'\n",
              "          + ' to learn more about interactive tables.';\n",
              "        element.innerHTML = '';\n",
              "        dataTable['output_type'] = 'display_data';\n",
              "        await google.colab.output.renderOutput(dataTable, element);\n",
              "        const docLink = document.createElement('div');\n",
              "        docLink.innerHTML = docLinkHtml;\n",
              "        element.appendChild(docLink);\n",
              "      }\n",
              "    </script>\n",
              "  </div>\n",
              "\n",
              "\n",
              "<div id=\"df-0983fdf0-f95d-46a1-ad1d-eee7bd031340\">\n",
              "  <button class=\"colab-df-quickchart\" onclick=\"quickchart('df-0983fdf0-f95d-46a1-ad1d-eee7bd031340')\"\n",
              "            title=\"Suggest charts\"\n",
              "            style=\"display:none;\">\n",
              "\n",
              "<svg xmlns=\"http://www.w3.org/2000/svg\" height=\"24px\"viewBox=\"0 0 24 24\"\n",
              "     width=\"24px\">\n",
              "    <g>\n",
              "        <path d=\"M19 3H5c-1.1 0-2 .9-2 2v14c0 1.1.9 2 2 2h14c1.1 0 2-.9 2-2V5c0-1.1-.9-2-2-2zM9 17H7v-7h2v7zm4 0h-2V7h2v10zm4 0h-2v-4h2v4z\"/>\n",
              "    </g>\n",
              "</svg>\n",
              "  </button>\n",
              "\n",
              "<style>\n",
              "  .colab-df-quickchart {\n",
              "      --bg-color: #E8F0FE;\n",
              "      --fill-color: #1967D2;\n",
              "      --hover-bg-color: #E2EBFA;\n",
              "      --hover-fill-color: #174EA6;\n",
              "      --disabled-fill-color: #AAA;\n",
              "      --disabled-bg-color: #DDD;\n",
              "  }\n",
              "\n",
              "  [theme=dark] .colab-df-quickchart {\n",
              "      --bg-color: #3B4455;\n",
              "      --fill-color: #D2E3FC;\n",
              "      --hover-bg-color: #434B5C;\n",
              "      --hover-fill-color: #FFFFFF;\n",
              "      --disabled-bg-color: #3B4455;\n",
              "      --disabled-fill-color: #666;\n",
              "  }\n",
              "\n",
              "  .colab-df-quickchart {\n",
              "    background-color: var(--bg-color);\n",
              "    border: none;\n",
              "    border-radius: 50%;\n",
              "    cursor: pointer;\n",
              "    display: none;\n",
              "    fill: var(--fill-color);\n",
              "    height: 32px;\n",
              "    padding: 0;\n",
              "    width: 32px;\n",
              "  }\n",
              "\n",
              "  .colab-df-quickchart:hover {\n",
              "    background-color: var(--hover-bg-color);\n",
              "    box-shadow: 0 1px 2px rgba(60, 64, 67, 0.3), 0 1px 3px 1px rgba(60, 64, 67, 0.15);\n",
              "    fill: var(--button-hover-fill-color);\n",
              "  }\n",
              "\n",
              "  .colab-df-quickchart-complete:disabled,\n",
              "  .colab-df-quickchart-complete:disabled:hover {\n",
              "    background-color: var(--disabled-bg-color);\n",
              "    fill: var(--disabled-fill-color);\n",
              "    box-shadow: none;\n",
              "  }\n",
              "\n",
              "  .colab-df-spinner {\n",
              "    border: 2px solid var(--fill-color);\n",
              "    border-color: transparent;\n",
              "    border-bottom-color: var(--fill-color);\n",
              "    animation:\n",
              "      spin 1s steps(1) infinite;\n",
              "  }\n",
              "\n",
              "  @keyframes spin {\n",
              "    0% {\n",
              "      border-color: transparent;\n",
              "      border-bottom-color: var(--fill-color);\n",
              "      border-left-color: var(--fill-color);\n",
              "    }\n",
              "    20% {\n",
              "      border-color: transparent;\n",
              "      border-left-color: var(--fill-color);\n",
              "      border-top-color: var(--fill-color);\n",
              "    }\n",
              "    30% {\n",
              "      border-color: transparent;\n",
              "      border-left-color: var(--fill-color);\n",
              "      border-top-color: var(--fill-color);\n",
              "      border-right-color: var(--fill-color);\n",
              "    }\n",
              "    40% {\n",
              "      border-color: transparent;\n",
              "      border-right-color: var(--fill-color);\n",
              "      border-top-color: var(--fill-color);\n",
              "    }\n",
              "    60% {\n",
              "      border-color: transparent;\n",
              "      border-right-color: var(--fill-color);\n",
              "    }\n",
              "    80% {\n",
              "      border-color: transparent;\n",
              "      border-right-color: var(--fill-color);\n",
              "      border-bottom-color: var(--fill-color);\n",
              "    }\n",
              "    90% {\n",
              "      border-color: transparent;\n",
              "      border-bottom-color: var(--fill-color);\n",
              "    }\n",
              "  }\n",
              "</style>\n",
              "\n",
              "  <script>\n",
              "    async function quickchart(key) {\n",
              "      const quickchartButtonEl =\n",
              "        document.querySelector('#' + key + ' button');\n",
              "      quickchartButtonEl.disabled = true;  // To prevent multiple clicks.\n",
              "      quickchartButtonEl.classList.add('colab-df-spinner');\n",
              "      try {\n",
              "        const charts = await google.colab.kernel.invokeFunction(\n",
              "            'suggestCharts', [key], {});\n",
              "      } catch (error) {\n",
              "        console.error('Error during call to suggestCharts:', error);\n",
              "      }\n",
              "      quickchartButtonEl.classList.remove('colab-df-spinner');\n",
              "      quickchartButtonEl.classList.add('colab-df-quickchart-complete');\n",
              "    }\n",
              "    (() => {\n",
              "      let quickchartButtonEl =\n",
              "        document.querySelector('#df-0983fdf0-f95d-46a1-ad1d-eee7bd031340 button');\n",
              "      quickchartButtonEl.style.display =\n",
              "        google.colab.kernel.accessAllowed ? 'block' : 'none';\n",
              "    })();\n",
              "  </script>\n",
              "</div>\n",
              "\n",
              "    </div>\n",
              "  </div>\n"
            ],
            "application/vnd.google.colaboratory.intrinsic+json": {
              "type": "dataframe",
              "variable_name": "Dataset"
            }
          },
          "metadata": {},
          "execution_count": 11
        }
      ]
    },
    {
      "cell_type": "code",
      "source": [
        "\n",
        "plt.figure(figsize=(10, 6))\n",
        "sns.boxplot(x='Cluster', y='Total Time Spent', data=Dataset)\n",
        "plt.title('Total Time Spent by Cluster')\n",
        "plt.show()\n",
        "\n",
        "sns.lmplot(x='Satisfaction', y='Addiction Level', hue='Cluster', data=Dataset, fit_reg=False)\n",
        "plt.title('Satisfaction vs Addiction Level by Cluster')\n",
        "plt.show()"
      ],
      "metadata": {
        "colab": {
          "base_uri": "https://localhost:8080/",
          "height": 1000
        },
        "id": "vkEs6ARm94dl",
        "outputId": "6d22c5e4-f994-4fcd-bcbf-dcb2437a5e59"
      },
      "execution_count": 14,
      "outputs": [
        {
          "output_type": "stream",
          "name": "stderr",
          "text": [
            "/usr/local/lib/python3.10/dist-packages/seaborn/categorical.py:640: FutureWarning: SeriesGroupBy.grouper is deprecated and will be removed in a future version of pandas.\n",
            "  positions = grouped.grouper.result_index.to_numpy(dtype=float)\n"
          ]
        },
        {
          "output_type": "display_data",
          "data": {
            "text/plain": [
              "<Figure size 1000x600 with 1 Axes>"
            ],
            "image/png": "[encoded data removed]"
          },
          "metadata": {}
        },
        {
          "output_type": "display_data",
          "data": {
            "text/plain": [
              "<Figure size 560.361x500 with 1 Axes>"
            ],
            "image/png": "[encoded data removed]"
          },
          "metadata": {}
        }
      ]
    },
    {
      "cell_type": "code",
      "source": [
        "from sklearn.metrics import silhouette_score\n",
        "\n",
        "\n",
        "silhouette_avg = silhouette_score(X, y_hc)\n",
        "print(f'Silhouette Score: {silhouette_avg}')"
      ],
      "metadata": {
        "colab": {
          "base_uri": "https://localhost:8080/"
        },
        "id": "aCJj_m8h-8C6",
        "outputId": "1fe92ecc-72ce-460a-bd89-af6717722cfc"
      },
      "execution_count": 15,
      "outputs": [
        {
          "output_type": "stream",
          "name": "stdout",
          "text": [
            "Silhouette Score: 0.21444823583479225\n"
          ]
        }
      ]
    },
    {
      "cell_type": "code",
      "source": [],
      "metadata": {
        "id": "h8F6KX0v_WD4"
      },
      "execution_count": null,
      "outputs": []
    }
  ]
}